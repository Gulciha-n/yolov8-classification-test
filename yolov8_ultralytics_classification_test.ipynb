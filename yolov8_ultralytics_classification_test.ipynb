{
  "nbformat": 4,
  "nbformat_minor": 0,
  "metadata": {
    "colab": {
      "provenance": []
    },
    "kernelspec": {
      "name": "python3",
      "display_name": "Python 3"
    },
    "language_info": {
      "name": "python"
    }
  },
  "cells": [
    {
      "cell_type": "code",
      "source": [
        "from google.colab import drive\n",
        "drive.mount('/content/gdrive')"
      ],
      "metadata": {
        "colab": {
          "base_uri": "https://localhost:8080/"
        },
        "id": "9IBQGHUXrfSg",
        "outputId": "17a9911e-56ab-4438-9711-97123a8c28f2"
      },
      "execution_count": null,
      "outputs": [
        {
          "output_type": "stream",
          "name": "stdout",
          "text": [
            "Mounted at /content/gdrive\n"
          ]
        }
      ]
    },
    {
      "cell_type": "code",
      "execution_count": null,
      "metadata": {
        "colab": {
          "base_uri": "https://localhost:8080/"
        },
        "id": "3obyj-0xAeVD",
        "outputId": "aab93beb-076d-4901-a179-18ca0bb8be26"
      },
      "outputs": [
        {
          "output_type": "stream",
          "name": "stdout",
          "text": [
            "Ultralytics YOLOv8.2.64 🚀 Python-3.10.12 torch-2.3.1+cu121 CPU (Intel Xeon 2.20GHz)\n",
            "Setup complete ✅ (2 CPUs, 12.7 GB RAM, 30.1/107.7 GB disk)\n"
          ]
        }
      ],
      "source": [
        "%pip install ultralytics\n",
        "\n",
        "%pip install supervision\n",
        "\n",
        "from ultralytics import YOLO, checks, hub\n",
        "\n",
        "checks()"
      ]
    },
    {
      "cell_type": "code",
      "source": [
        "from pathlib import Path\n",
        "import shutil\n",
        "import supervision as sv\n",
        "from ultralytics import YOLO\n",
        "import cv2"
      ],
      "metadata": {
        "id": "5EGjjNajAl6k"
      },
      "execution_count": null,
      "outputs": []
    },
    {
      "cell_type": "code",
      "source": [
        "byte_tracker = sv.ByteTrack()\n",
        "\n",
        "annotator = sv.BoxAnnotator()\n",
        "\n",
        "MODEL_PATH = \"path to trained model\"\n",
        "\n",
        "SAVE_PATH = Path(\"saved_frames\")\n",
        "\n",
        "if SAVE_PATH.is_dir():\n",
        "  shutil.rmtree(SAVE_PATH)\n",
        "\n",
        "SAVE_PATH.mkdir(exist_ok=True, parents=True)"
      ],
      "metadata": {
        "id": "QLmfkWWyAnfn"
      },
      "execution_count": null,
      "outputs": []
    },
    {
      "cell_type": "code",
      "source": [
        "# Load a pretrained YOLOv8n model\n",
        "model = YOLO(MODEL_PATH)\n",
        "\n",
        "# Define path to video file\n",
        "SOURCE = Path(\"path to image or video\")\n",
        "\n",
        "# Run inference on the source\n",
        "results = model(SOURCE, imgsz=256, conf= 0.7) # imgsz detects those with 256 and 70% occupancy rate.\n",
        "\n",
        "frame_counter = 0\n",
        "\n",
        "SAVE_PATH = Path(\"/content/gdrive/MyDrive/Colab Notebooks/results\")  # Define the save path\n",
        "SAVE_PATH.mkdir(parents=True, exist_ok=True)  # Create the save path if it does not exist\n",
        "\n",
        "for result in results:\n",
        "    frame_counter += 1\n",
        "\n",
        "    # Get the highest confidence class\n",
        "    label = result.names[result.probs.top1]  # Get the label name for the top class\n",
        "    confidence = result.probs.top1conf.item()  # Get the confidence score for the top class\n",
        "\n",
        "    # Save the classification result to a text file\n",
        "    with open(SAVE_PATH / f\"{SOURCE.stem}_{frame_counter}.txt\", \"w\") as f:\n",
        "        f.write(f\"Label: {label}, Confidence: {confidence:.2f}\\n\")\n",
        "\n",
        "    # Save the image with the classification label\n",
        "    image = cv2.imread(str(SOURCE))\n",
        "    cv2.putText(image, f\"{label} ({confidence:.2f})\", (10, 30), cv2.FONT_HERSHEY_SIMPLEX, 1, (0, 255, 0), 2)\n",
        "    cv2.imwrite(str(SAVE_PATH / f\"{SOURCE.stem}_{frame_counter}.jpg\"), image)"
      ],
      "metadata": {
        "id": "lnVwkpjoApXp",
        "colab": {
          "base_uri": "https://localhost:8080/"
        },
        "outputId": "13afab54-d43f-4963-a1f2-70451d46de8c"
      },
      "execution_count": null,
      "outputs": [
        {
          "output_type": "stream",
          "name": "stdout",
          "text": [
            "\n",
            "image 1/1 /content/gdrive/MyDrive/Colab Notebooks/test2.jpg: 256x256 sifir 1.00, belirsiz 0.00, on 0.00, altmis 0.00, yirmi 0.00, 130.0ms\n",
            "Speed: 2.8ms preprocess, 130.0ms inference, 0.1ms postprocess per image at shape (1, 3, 256, 256)\n"
          ]
        }
      ]
    },
    {
      "cell_type": "code",
      "source": [
        "import shutil\n",
        "shutil.make_archive('/content/gdrive/MyDrive/Colab Notebooks/results', 'zip', '/content/gdrive/MyDrive/Colab Notebooks/results')"
      ],
      "metadata": {
        "id": "hTccAMEfP3nK"
      },
      "execution_count": null,
      "outputs": []
    },
    {
      "cell_type": "code",
      "source": [
        "from google.colab import files\n",
        "\n",
        "files.download('/content/gdrive/MyDrive/Colab Notebooks/results.zip')"
      ],
      "metadata": {
        "id": "A7gKKnBzP6Vi"
      },
      "execution_count": null,
      "outputs": []
    }
  ]
}